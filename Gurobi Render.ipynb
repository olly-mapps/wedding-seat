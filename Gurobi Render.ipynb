{
 "cells": [
  {
   "cell_type": "code",
   "execution_count": 1,
   "id": "c4ce15c4",
   "metadata": {},
   "outputs": [],
   "source": [
    "'''\n",
    "Gurobi rendering of MiniZinc model\n",
    "\n",
    "'''\n",
    "\n",
    "import numpy as np\n",
    "import gurobipy as gp\n",
    "from gurobipy import GRB"
   ]
  },
  {
   "cell_type": "code",
   "execution_count": 16,
   "id": "0690fc01",
   "metadata": {},
   "outputs": [],
   "source": [
    "'''\n",
    "wedding-seat-data.dzn\n",
    "'''\n",
    "\n",
    "guest_count = 10\n",
    "child_count = 5\n",
    "table_size = 5\n",
    "child_table_size = 5\n",
    "\n",
    "table_count = int(guest_count/table_size)\n",
    "\n",
    "if child_table_size != 0:\n",
    "    child_table_count = int(child_count/child_table_size)\n",
    "else:\n",
    "    child_table_count = 0\n",
    "\n",
    "relationships_matrix = np.array(\n",
    "[[ 0, -0.5, 0, 0.5, 0, 0, 0, 0, 0, 0],\n",
    " [-0.5, 0, 0, 0, 0, 0, 0, 0, 0, 0],  \n",
    " [0, 0, 0, -0.5, 0, 0, 0, 0, 0, 0],  \n",
    " [ 0.5, 0, -0.5, 0, 0, 0, 0, 0, 0, 0],  \n",
    " [ 0, 0, 0, 0, 0, 0.25, 0, 0, 0, 0],  \n",
    " [ 0, 0, 0, 0, 0.25, 0, -0.5, 0, 0, 0],  \n",
    " [ 0, 0, 0, 0, 0, -0.5, 0, 0, 0, 0],  \n",
    " [ 0, 0, 0, 0, 0, 0, 0, 0, -0.5, 0],  \n",
    " [ 0, 0, 0, 0, 0, 0, 0, -0.5, 0, 0],  \n",
    " [ 0, 0, 0, 0, 0, 0, 0, 0, 0, 0]]\n",
    ")\n"
   ]
  },
  {
   "cell_type": "code",
   "execution_count": 17,
   "id": "21bf99f9",
   "metadata": {},
   "outputs": [
    {
     "name": "stdout",
     "output_type": "stream",
     "text": [
      "[0, 1, 2, 3, 4, 5, 6, 7, 8, 9]\n",
      "[10, 11, 12, 13, 14]\n",
      "[0, 1]\n",
      "[2]\n"
     ]
    }
   ],
   "source": [
    "'''\n",
    "Parameter Sets\n",
    "'''\n",
    "\n",
    "GUESTS = [guest for guest in range(guest_count)]\n",
    "CHILDREN = [child for child in range(guest_count, guest_count+child_count)]\n",
    "TABLES = [table for table in range(table_count)]\n",
    "CHILD_TABLES = [child_table for child_table in range(table_count, table_count+child_table_count)]\n",
    "print(GUESTS)\n",
    "print(CHILDREN)\n",
    "print(TABLES)\n",
    "print(CHILD_TABLES)"
   ]
  },
  {
   "cell_type": "code",
   "execution_count": 18,
   "id": "712e6ec0",
   "metadata": {},
   "outputs": [],
   "source": [
    "'''\n",
    "Model\n",
    "'''\n",
    "\n",
    "m = gp.Model(\"wedding-seat\")"
   ]
  },
  {
   "cell_type": "code",
   "execution_count": 19,
   "id": "454a6579",
   "metadata": {},
   "outputs": [],
   "source": [
    "'''\n",
    "Decision Variables\n",
    "'''\n",
    "\n",
    "table_plan = m.addMVar((table_count+child_table_count, guest_count+child_count), vtype = GRB.BINARY)\n",
    "\n",
    "same_table = m.addMVar((guest_count+child_count, guest_count+child_count, table_count+child_table_count), vtype = GRB.BINARY)\n",
    "\n",
    "table_unhappiness = gp.LinExpr();\n",
    "\n",
    "for t in TABLES:\n",
    "    table_unhappiness += gp.quicksum([relationships_matrix[i,j] * same_table[i,j,t] for i in GUESTS for j in GUESTS]);\n",
    "\n",
    "m.setObjective(table_unhappiness, GRB.MINIMIZE);"
   ]
  },
  {
   "cell_type": "code",
   "execution_count": 20,
   "id": "d25a1b29",
   "metadata": {},
   "outputs": [],
   "source": [
    "'''\n",
    "Constraints\n",
    "'''\n",
    "\n",
    "##Each guest must be assigned to a table\n",
    "for guest in GUESTS + CHILDREN:\n",
    "    m.addConstr(gp.quicksum([table_plan[table,guest] for table in TABLES+CHILD_TABLES]) == 1)\n",
    "\n",
    "##Each table must be at most table_size big\n",
    "for table in TABLES:\n",
    "    m.addConstr(gp.quicksum([table_plan[table,guest] for guest in GUESTS]) == table_size) \n",
    "\n",
    "##Each child table must be at most child_table_size big\n",
    "for child_table in CHILD_TABLES:\n",
    "    m.addConstr(gp.quicksum([table_plan[child_table,child] for child in CHILDREN]) == child_table_size)\n",
    "\n",
    "##Adults and children sat apart (aka children sit exclusively with children)\n",
    "for adult in GUESTS:\n",
    "    for child in CHILDREN:\n",
    "        for table in TABLES + CHILD_TABLES:\n",
    "            m.addConstr(same_table[adult,child,table] == 0)\n",
    "            \n",
    "m.addConstr(table_plan[0,0] * table_plan[0,1] == 1)\n",
    "\n",
    "##Links the table plan with the indicator variable array\n",
    "for g1 in GUESTS:\n",
    "    for g2 in GUESTS:\n",
    "        for t in TABLES:\n",
    "            m.addConstr(same_table[g1,g2,t] == table_plan[t, g1] * table_plan[t, g2])\n",
    "\n",
    "\n"
   ]
  },
  {
   "cell_type": "code",
   "execution_count": 21,
   "id": "b0b6560c",
   "metadata": {},
   "outputs": [
    {
     "name": "stdout",
     "output_type": "stream",
     "text": [
      "Gurobi Optimizer version 9.5.2 build v9.5.2rc0 (win64)\n",
      "Thread count: 2 physical cores, 4 logical processors, using up to 4 threads\n",
      "Optimize a model with 168 rows, 720 columns and 220 nonzeros\n",
      "Model fingerprint: 0xfe8906c5\n",
      "Model has 201 quadratic constraints\n",
      "Variable types: 0 continuous, 720 integer (720 binary)\n",
      "Coefficient statistics:\n",
      "  Matrix range     [1e+00, 1e+00]\n",
      "  QMatrix range    [1e+00, 1e+00]\n",
      "  QLMatrix range   [1e+00, 1e+00]\n",
      "  Objective range  [3e-01, 5e-01]\n",
      "  Bounds range     [1e+00, 1e+00]\n",
      "  RHS range        [1e+00, 5e+00]\n",
      "  QRHS range       [1e+00, 1e+00]\n",
      "Presolve removed 158 rows and 648 columns\n",
      "Presolve time: 0.00s\n",
      "Presolved: 234 rows, 128 columns, 536 nonzeros\n",
      "Variable types: 0 continuous, 128 integer (128 binary)\n",
      "Found heuristic solution: objective 0.0000000\n",
      "Found heuristic solution: objective -3.0000000\n",
      "\n",
      "Root relaxation: objective -4.000000e+00, 49 iterations, 0.00 seconds (0.00 work units)\n",
      "\n",
      "    Nodes    |    Current Node    |     Objective Bounds      |     Work\n",
      " Expl Unexpl |  Obj  Depth IntInf | Incumbent    BestBd   Gap | It/Node Time\n",
      "\n",
      "H    0     0                      -4.0000000   -7.00000  75.0%     -    0s\n",
      "     0     0          -    0        -4.00000   -4.00000  0.00%     -    0s\n",
      "\n",
      "Explored 1 nodes (83 simplex iterations) in 0.04 seconds (0.00 work units)\n",
      "Thread count was 4 (of 4 available processors)\n",
      "\n",
      "Solution count 3: -4 -3 0 \n",
      "No other solutions better than -4\n",
      "\n",
      "Optimal solution found (tolerance 1.00e-04)\n",
      "Best objective -4.000000000000e+00, best bound -4.000000000000e+00, gap 0.0000%\n"
     ]
    }
   ],
   "source": [
    "'''\n",
    "Run Model\n",
    "'''\n",
    "\n",
    "m.optimize()"
   ]
  },
  {
   "cell_type": "code",
   "execution_count": 22,
   "id": "28fc3581",
   "metadata": {},
   "outputs": [
    {
     "name": "stdout",
     "output_type": "stream",
     "text": [
      "[[1. 1. 0. 0. 0. 1. 1. 0. 0. 1. 0. 0. 0. 0. 0.]\n",
      " [0. 0. 1. 1. 1. 0. 0. 1. 1. 0. 0. 0. 0. 0. 0.]\n",
      " [0. 0. 0. 0. 0. 0. 0. 0. 0. 0. 1. 1. 1. 1. 1.]]\n"
     ]
    }
   ],
   "source": [
    "print(table_plan.X)"
   ]
  },
  {
   "cell_type": "code",
   "execution_count": null,
   "id": "81ce626f",
   "metadata": {},
   "outputs": [],
   "source": []
  }
 ],
 "metadata": {
  "kernelspec": {
   "display_name": "Python 3 (ipykernel)",
   "language": "python",
   "name": "python3"
  },
  "language_info": {
   "codemirror_mode": {
    "name": "ipython",
    "version": 3
   },
   "file_extension": ".py",
   "mimetype": "text/x-python",
   "name": "python",
   "nbconvert_exporter": "python",
   "pygments_lexer": "ipython3",
   "version": "3.9.7"
  }
 },
 "nbformat": 4,
 "nbformat_minor": 5
}
